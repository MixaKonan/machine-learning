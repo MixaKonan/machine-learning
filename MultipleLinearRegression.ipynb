{
 "cells": [
  {
   "cell_type": "code",
   "execution_count": 5,
   "metadata": {},
   "outputs": [],
   "source": [
    "import matplotlib.pyplot as plt\n",
    "import pandas as pd\n",
    "import numpy as np\n",
    "import regression_utils as ru\n",
    "\n",
    "from sklearn.linear_model import LinearRegression"
   ]
  },
  {
   "cell_type": "code",
   "execution_count": null,
   "metadata": {},
   "outputs": [],
   "source": [
    "dataframe = pd.read_csv(\"./Data/train.csv\")\n",
    "dataframe = dataframe[['LotFrontage','LotArea', 'SalePrice']]\n",
    "dataframe"
   ]
  },
  {
   "cell_type": "code",
   "execution_count": 8,
   "metadata": {},
   "outputs": [
    {
     "ename": "IndexError",
     "evalue": "invalid index to scalar variable.",
     "output_type": "error",
     "traceback": [
      "\u001b[1;31m---------------------------------------------------------------------------\u001b[0m",
      "\u001b[1;31mIndexError\u001b[0m                                Traceback (most recent call last)",
      "\u001b[1;32md:\\Repositories\\ML\\MulltipleLinearRegression.ipynb Cell 3\u001b[0m line \u001b[0;36m5\n\u001b[0;32m      <a href='vscode-notebook-cell:/d%3A/Repositories/ML/MulltipleLinearRegression.ipynb#W2sZmlsZQ%3D%3D?line=2'>3</a>\u001b[0m features, expected_predictions \u001b[39m=\u001b[39m np\u001b[39m.\u001b[39mlog2(features), np\u001b[39m.\u001b[39mlog2(expected_predictions)\n\u001b[0;32m      <a href='vscode-notebook-cell:/d%3A/Repositories/ML/MulltipleLinearRegression.ipynb#W2sZmlsZQ%3D%3D?line=3'>4</a>\u001b[0m \u001b[39m# feature_values = [{index : feature[0]} for index, feature in enumerate(features)]\u001b[39;00m\n\u001b[1;32m----> <a href='vscode-notebook-cell:/d%3A/Repositories/ML/MulltipleLinearRegression.ipynb#W2sZmlsZQ%3D%3D?line=4'>5</a>\u001b[0m features, expected_predictions \u001b[39m=\u001b[39m ru\u001b[39m.\u001b[39;49mreject_outliers(features, expected_predictions, \u001b[39m65\u001b[39;49m, \u001b[39m35\u001b[39;49m, \u001b[39m1.5\u001b[39;49m)\n\u001b[0;32m      <a href='vscode-notebook-cell:/d%3A/Repositories/ML/MulltipleLinearRegression.ipynb#W2sZmlsZQ%3D%3D?line=5'>6</a>\u001b[0m \u001b[39m# print(feature_values)\u001b[39;00m\n",
      "File \u001b[1;32md:\\Repositories\\ML\\regression_utils.py:10\u001b[0m, in \u001b[0;36mreject_outliers\u001b[1;34m(features_values, y, upper_percentile, lower_percentile, outlierConstant)\u001b[0m\n\u001b[0;32m      8\u001b[0m feature_values \u001b[39m=\u001b[39m [features[current_feature_index] \u001b[39mfor\u001b[39;00m features \u001b[39min\u001b[39;00m \u001b[39menumerate\u001b[39m(features_values)]\n\u001b[0;32m      9\u001b[0m \u001b[39mfor\u001b[39;00m _, features \u001b[39min\u001b[39;00m \u001b[39menumerate\u001b[39m(features_values):\n\u001b[1;32m---> 10\u001b[0m     feature_values\u001b[39m.\u001b[39mappend(features[\u001b[39m0\u001b[39;49m][current_feature_index])\n\u001b[0;32m     12\u001b[0m feature_values \u001b[39m=\u001b[39m [features[\u001b[39m0\u001b[39m][current_feature_index] ]\n\u001b[0;32m     13\u001b[0m upper_quartile \u001b[39m=\u001b[39m np\u001b[39m.\u001b[39mpercentile(feature_values[\u001b[39m1\u001b[39m], upper_percentile)\n",
      "\u001b[1;31mIndexError\u001b[0m: invalid index to scalar variable."
     ]
    }
   ],
   "source": [
    "np_df = dataframe.to_numpy()\n",
    "features, expected_predictions = np_df[:, :-1], np_df[:, -1]\n",
    "features, expected_predictions = np.log2(features), np.log2(expected_predictions)\n",
    "# feature_values = [{index : feature[0]} for index, feature in enumerate(features)]\n",
    "features, expected_predictions = ru.reject_outliers(features, expected_predictions, 65, 35, 1.5)\n",
    "# print(feature_values)"
   ]
  }
 ],
 "metadata": {
  "kernelspec": {
   "display_name": "Python 3",
   "language": "python",
   "name": "python3"
  },
  "language_info": {
   "codemirror_mode": {
    "name": "ipython",
    "version": 3
   },
   "file_extension": ".py",
   "mimetype": "text/x-python",
   "name": "python",
   "nbconvert_exporter": "python",
   "pygments_lexer": "ipython3",
   "version": "3.11.5"
  },
  "orig_nbformat": 4
 },
 "nbformat": 4,
 "nbformat_minor": 2
}
