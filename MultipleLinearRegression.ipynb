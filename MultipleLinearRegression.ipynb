{
 "cells": [
  {
   "cell_type": "code",
   "execution_count": 61,
   "metadata": {},
   "outputs": [],
   "source": [
    "import matplotlib.pyplot as plt\n",
    "import pandas as pd\n",
    "import numpy as np\n",
    "import regression_utils as ru\n",
    "\n",
    "from sklearn.linear_model import LinearRegression\n",
    "from sklearn.metrics import mean_squared_error"
   ]
  },
  {
   "cell_type": "code",
   "execution_count": 62,
   "metadata": {},
   "outputs": [],
   "source": [
    "dataframe = pd.read_csv(\"./Data/train.csv\")\n",
    "dataframe = dataframe[['LotFrontage','LotArea', 'SalePrice']]"
   ]
  },
  {
   "cell_type": "code",
   "execution_count": 63,
   "metadata": {},
   "outputs": [],
   "source": [
    "def normalize_data(dataframe: pd.DataFrame):\n",
    "    \"\"\"\n",
    "    Take all the columns except for the last one as X and scale data by log2\n",
    "    \"\"\"\n",
    "    np_df = dataframe.dropna().to_numpy()\n",
    "    x, y = np_df[:, :-1], np_df[:, -1]\n",
    "\n",
    "    return ru.reject_outliers(np.log2(x), np.log2(y), 65, 35, 1.5)"
   ]
  },
  {
   "cell_type": "code",
   "execution_count": 64,
   "metadata": {},
   "outputs": [],
   "source": [
    "def fit(x, y, learning_rate=0.00001, epsilon=0.9):\n",
    "    \"\"\"\n",
    "    Fit linear regression, using gradient descent\n",
    "    \"\"\"\n",
    "\n",
    "    regression = np.c_[x, np.ones(len(x))]\n",
    "    weights = np.ones(regression.shape[1])\n",
    "\n",
    "    losses = []\n",
    "    epochs = 0\n",
    "    norma = 1\n",
    "    while norma > epsilon:\n",
    "        epochs += 1\n",
    "        y_predictions = regression @ weights.T\n",
    "        partial = regression.T @ (y - y_predictions)\n",
    "\n",
    "        norma = np.sum(np.sqrt(np.square(partial)))\n",
    "        losses.append(norma)\n",
    "\n",
    "        weights = weights.T + (learning_rate * partial)\n",
    "\n",
    "        if np.isnan(norma):\n",
    "            raise ValueError('The model diverged. Try using smaller learning rate.')\n",
    "\n",
    "    return weights, losses"
   ]
  },
  {
   "cell_type": "code",
   "execution_count": 65,
   "metadata": {},
   "outputs": [],
   "source": [
    "def predict(weights, x):\n",
    "    \"\"\"\n",
    "    Predict Y values by applying m * x + b\n",
    "    \"\"\"\n",
    "    return weights[:-1] @ np.array(x).T + weights[-1]"
   ]
  },
  {
   "cell_type": "code",
   "execution_count": 66,
   "metadata": {},
   "outputs": [],
   "source": [
    "def get_sklearn_predictions(x, y):\n",
    "    return LinearRegression().fit(x, y).predict(x)"
   ]
  },
  {
   "cell_type": "code",
   "execution_count": 67,
   "metadata": {},
   "outputs": [],
   "source": [
    "normalized_feature_values, normalized_expected_predictions = normalize_data(dataframe)\n",
    "weights, losses = fit(normalized_feature_values, normalized_expected_predictions)\n",
    "predicted_values = predict(weights, normalized_feature_values)\n",
    "sklearn_predictions = get_sklearn_predictions(normalized_feature_values, normalized_expected_predictions)"
   ]
  },
  {
   "cell_type": "code",
   "execution_count": 77,
   "metadata": {},
   "outputs": [
    {
     "data": {
      "text/html": [
       "<div>\n",
       "<style scoped>\n",
       "    .dataframe tbody tr th:only-of-type {\n",
       "        vertical-align: middle;\n",
       "    }\n",
       "\n",
       "    .dataframe tbody tr th {\n",
       "        vertical-align: top;\n",
       "    }\n",
       "\n",
       "    .dataframe thead th {\n",
       "        text-align: right;\n",
       "    }\n",
       "</style>\n",
       "<table border=\"1\" class=\"dataframe\">\n",
       "  <thead>\n",
       "    <tr style=\"text-align: right;\">\n",
       "      <th></th>\n",
       "      <th>Lot Frontage</th>\n",
       "      <th>Lot Area</th>\n",
       "      <th>Sale Price</th>\n",
       "      <th>Predicted Sale Price (My)</th>\n",
       "      <th>Predicted Sale Price (SK)</th>\n",
       "      <th>MES (My)</th>\n",
       "      <th>MES (SK)</th>\n",
       "    </tr>\n",
       "  </thead>\n",
       "  <tbody>\n",
       "    <tr>\n",
       "      <th>0</th>\n",
       "      <td>6.022368</td>\n",
       "      <td>13.044736</td>\n",
       "      <td>17.669688</td>\n",
       "      <td>17.141659</td>\n",
       "      <td>17.179122</td>\n",
       "      <td>0.278814</td>\n",
       "      <td>0.240655</td>\n",
       "    </tr>\n",
       "    <tr>\n",
       "      <th>1</th>\n",
       "      <td>6.321928</td>\n",
       "      <td>13.228819</td>\n",
       "      <td>17.469610</td>\n",
       "      <td>17.484478</td>\n",
       "      <td>17.481091</td>\n",
       "      <td>0.000221</td>\n",
       "      <td>0.000132</td>\n",
       "    </tr>\n",
       "    <tr>\n",
       "      <th>2</th>\n",
       "      <td>6.087463</td>\n",
       "      <td>13.457637</td>\n",
       "      <td>17.769915</td>\n",
       "      <td>17.474284</td>\n",
       "      <td>17.420567</td>\n",
       "      <td>0.087398</td>\n",
       "      <td>0.122044</td>\n",
       "    </tr>\n",
       "    <tr>\n",
       "      <th>3</th>\n",
       "      <td>5.906891</td>\n",
       "      <td>13.221285</td>\n",
       "      <td>17.095067</td>\n",
       "      <td>17.180839</td>\n",
       "      <td>17.179421</td>\n",
       "      <td>0.007357</td>\n",
       "      <td>0.007115</td>\n",
       "    </tr>\n",
       "    <tr>\n",
       "      <th>4</th>\n",
       "      <td>6.228819</td>\n",
       "      <td>13.299780</td>\n",
       "      <td>18.227879</td>\n",
       "      <td>17.466651</td>\n",
       "      <td>17.447670</td>\n",
       "      <td>0.579468</td>\n",
       "      <td>0.608726</td>\n",
       "    </tr>\n",
       "    <tr>\n",
       "      <th>...</th>\n",
       "      <td>...</td>\n",
       "      <td>...</td>\n",
       "      <td>...</td>\n",
       "      <td>...</td>\n",
       "      <td>...</td>\n",
       "      <td>...</td>\n",
       "      <td>...</td>\n",
       "    </tr>\n",
       "    <tr>\n",
       "      <th>811</th>\n",
       "      <td>5.954196</td>\n",
       "      <td>12.950738</td>\n",
       "      <td>17.416995</td>\n",
       "      <td>17.027575</td>\n",
       "      <td>17.085834</td>\n",
       "      <td>0.151649</td>\n",
       "      <td>0.109668</td>\n",
       "    </tr>\n",
       "    <tr>\n",
       "      <th>812</th>\n",
       "      <td>6.409391</td>\n",
       "      <td>13.685515</td>\n",
       "      <td>17.680030</td>\n",
       "      <td>17.863502</td>\n",
       "      <td>17.759253</td>\n",
       "      <td>0.033662</td>\n",
       "      <td>0.006276</td>\n",
       "    </tr>\n",
       "    <tr>\n",
       "      <th>813</th>\n",
       "      <td>6.044394</td>\n",
       "      <td>13.142426</td>\n",
       "      <td>18.023776</td>\n",
       "      <td>17.225120</td>\n",
       "      <td>17.241005</td>\n",
       "      <td>0.637851</td>\n",
       "      <td>0.612730</td>\n",
       "    </tr>\n",
       "    <tr>\n",
       "      <th>814</th>\n",
       "      <td>6.087463</td>\n",
       "      <td>13.246295</td>\n",
       "      <td>17.116801</td>\n",
       "      <td>17.327988</td>\n",
       "      <td>17.320917</td>\n",
       "      <td>0.044600</td>\n",
       "      <td>0.041663</td>\n",
       "    </tr>\n",
       "    <tr>\n",
       "      <th>815</th>\n",
       "      <td>6.228819</td>\n",
       "      <td>13.278595</td>\n",
       "      <td>17.170355</td>\n",
       "      <td>17.451986</td>\n",
       "      <td>17.437681</td>\n",
       "      <td>0.079316</td>\n",
       "      <td>0.071463</td>\n",
       "    </tr>\n",
       "  </tbody>\n",
       "</table>\n",
       "<p>816 rows × 7 columns</p>\n",
       "</div>"
      ],
      "text/plain": [
       "     Lot Frontage   Lot Area  Sale Price  Predicted Sale Price (My)  \\\n",
       "0        6.022368  13.044736   17.669688                  17.141659   \n",
       "1        6.321928  13.228819   17.469610                  17.484478   \n",
       "2        6.087463  13.457637   17.769915                  17.474284   \n",
       "3        5.906891  13.221285   17.095067                  17.180839   \n",
       "4        6.228819  13.299780   18.227879                  17.466651   \n",
       "..            ...        ...         ...                        ...   \n",
       "811      5.954196  12.950738   17.416995                  17.027575   \n",
       "812      6.409391  13.685515   17.680030                  17.863502   \n",
       "813      6.044394  13.142426   18.023776                  17.225120   \n",
       "814      6.087463  13.246295   17.116801                  17.327988   \n",
       "815      6.228819  13.278595   17.170355                  17.451986   \n",
       "\n",
       "     Predicted Sale Price (SK)  MES (My)  MES (SK)  \n",
       "0                    17.179122  0.278814  0.240655  \n",
       "1                    17.481091  0.000221  0.000132  \n",
       "2                    17.420567  0.087398  0.122044  \n",
       "3                    17.179421  0.007357  0.007115  \n",
       "4                    17.447670  0.579468  0.608726  \n",
       "..                         ...       ...       ...  \n",
       "811                  17.085834  0.151649  0.109668  \n",
       "812                  17.759253  0.033662  0.006276  \n",
       "813                  17.241005  0.637851  0.612730  \n",
       "814                  17.320917  0.044600  0.041663  \n",
       "815                  17.437681  0.079316  0.071463  \n",
       "\n",
       "[816 rows x 7 columns]"
      ]
     },
     "execution_count": 77,
     "metadata": {},
     "output_type": "execute_result"
    }
   ],
   "source": [
    "final_data = pd.DataFrame({\n",
    "    'Lot Frontage': normalized_feature_values[:, :1].reshape(len(normalized_feature_values)).tolist(),\n",
    "    'Lot Area': normalized_feature_values[:, 1:].reshape(len(normalized_feature_values)).tolist(),\n",
    "    'Sale Price': normalized_expected_predictions.tolist(),\n",
    "    'Predicted Sale Price (My)': predicted_values.tolist(),\n",
    "    'Predicted Sale Price (SK)': sklearn_predictions.tolist(),\n",
    "    'MES (My)': ((normalized_expected_predictions - predicted_values) ** 2).tolist(),\n",
    "    'MES (SK)': ((normalized_expected_predictions - sklearn_predictions) ** 2).tolist()\n",
    "})\n",
    "\n",
    "final_data"
   ]
  },
  {
   "cell_type": "code",
   "execution_count": 69,
   "metadata": {},
   "outputs": [
    {
     "data": {
      "text/plain": [
       "[<matplotlib.lines.Line2D at 0x110eea9b250>]"
      ]
     },
     "execution_count": 69,
     "metadata": {},
     "output_type": "execute_result"
    },
    {
     "data": {
      "image/png": "[encoded data removed]",
      "text/plain": [
       "<Figure size 640x480 with 1 Axes>"
      ]
     },
     "metadata": {},
     "output_type": "display_data"
    }
   ],
   "source": [
    "plt.plot(np.arange(len(losses))[:50], losses[:50])"
   ]
  }
 ],
 "metadata": {
  "kernelspec": {
   "display_name": "Python 3",
   "language": "python",
   "name": "python3"
  },
  "language_info": {
   "codemirror_mode": {
    "name": "ipython",
    "version": 3
   },
   "file_extension": ".py",
   "mimetype": "text/x-python",
   "name": "python",
   "nbconvert_exporter": "python",
   "pygments_lexer": "ipython3",
   "version": "3.11.5"
  },
  "orig_nbformat": 4
 },
 "nbformat": 4,
 "nbformat_minor": 2
}
