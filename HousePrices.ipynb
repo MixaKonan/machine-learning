{
 "cells": [
  {
   "cell_type": "code",
   "execution_count": null,
   "metadata": {},
   "outputs": [],
   "source": [
    "import matplotlib.pyplot as plt\n",
    "import pandas as pd\n",
    "import numpy as np\n",
    "\n",
    "from sklearn.linear_model import LinearRegression"
   ]
  },
  {
   "cell_type": "code",
   "execution_count": null,
   "metadata": {},
   "outputs": [],
   "source": [
    "dataframe = pd.read_csv(\"./Data/train.csv\")\n",
    "dataframe = dataframe[['LotFrontage','LotArea', 'SalePrice']]\n",
    "dataframe"
   ]
  },
  {
   "cell_type": "code",
   "execution_count": null,
   "metadata": {},
   "outputs": [],
   "source": [
    "def loss_function(y, x, m, b):\n",
    "    return (y - (m * x + b)) ** 2"
   ]
  },
  {
   "cell_type": "code",
   "execution_count": null,
   "metadata": {},
   "outputs": [],
   "source": [
    "def reject_outliers(lot_area, sale_price,  outlierConstant):\n",
    "    upper_quartile = np.percentile(lot_area, 65)\n",
    "    lower_quartile = np.percentile(lot_area, 35)\n",
    "    IQR = (upper_quartile - lower_quartile) * outlierConstant\n",
    "    quartileSet = (lower_quartile - IQR, upper_quartile + IQR)\n",
    "\n",
    "    indices_to_delete = []\n",
    "    for index, value in enumerate(lot_area):\n",
    "        if not (value >= quartileSet[0] and value <= quartileSet[1]):\n",
    "            indices_to_delete.append(index)\n",
    "            \n",
    "    return np.delete(lot_area, indices_to_delete), np.delete(sale_price, indices_to_delete)"
   ]
  },
  {
   "cell_type": "code",
   "execution_count": null,
   "metadata": {},
   "outputs": [],
   "source": [
    "def gradient_descent(m_now, b_now, lotAreaPoints, salePricePoints,  learningRate):\n",
    "    m_gradient = 0\n",
    "    b_gradient = 0\n",
    "    n = len(lotAreaPoints)\n",
    "\n",
    "    for i in range(n):\n",
    "        x = lotAreaPoints[i]\n",
    "        y = salePricePoints[i]\n",
    "\n",
    "        m_gradient += -(2/n) * (x * (y - (m_now * x + b_now)))\n",
    "        b_gradient += -(2/n) * (y - (m_now * x + b_now))\n",
    "\n",
    "    m = m_now - m_gradient * learningRate\n",
    "    b = b_now - b_gradient * learningRate\n",
    "    loss_value = loss_function(salePricePoints[i], lotAreaPoints[i], m, b)\n",
    "\n",
    "    return m, b, loss_value"
   ]
  },
  {
   "cell_type": "code",
   "execution_count": null,
   "metadata": {},
   "outputs": [],
   "source": [
    "def get_values(lot_areas: np.ndarray, sale_prices: np.ndarray, epochs: int, learning_rate: float):\n",
    "    m = 0\n",
    "    b = 0\n",
    "\n",
    "    loss_values = []\n",
    "    for _ in range(epochs):\n",
    "        m, b, loss_value = gradient_descent(m, b, lot_areas, sale_prices, learning_rate)\n",
    "        loss_values.append(loss_value)\n",
    "\n",
    "    return m, b, loss_values"
   ]
  },
  {
   "cell_type": "code",
   "execution_count": null,
   "metadata": {},
   "outputs": [],
   "source": [
    "def plot_loss(epochs: int, loss_values: np.ndarray):\n",
    "    figure, loss = plt.subplots()\n",
    "    figure.set_label(\"Loss\")\n",
    "    epoch_values = [x for x in range(epochs)]\n",
    "    loss.plot(epoch_values, loss_values)"
   ]
  },
  {
   "cell_type": "code",
   "execution_count": null,
   "metadata": {},
   "outputs": [],
   "source": [
    "def get_my_predictions(lot_areas, sale_prices, epochs, learning_rate):\n",
    "    m, b, loss_values = get_values(lot_areas, sale_prices, epochs, learning_rate)\n",
    "    return [m * lot_area + b for lot_area in lot_areas], loss_values"
   ]
  },
  {
   "cell_type": "code",
   "execution_count": null,
   "metadata": {},
   "outputs": [],
   "source": [
    "def get_sk_predictions(lot_areas, sale_prices):\n",
    "    return LinearRegression().fit(lot_areas, sale_prices).predict(lot_areas)"
   ]
  },
  {
   "cell_type": "code",
   "execution_count": null,
   "metadata": {},
   "outputs": [],
   "source": [
    "learning_rate = 0.0001\n",
    "epochs = 150\n",
    "\n",
    "scaled_lot_area = np.log2(np.array(dataframe['LotArea']))\n",
    "scaled_sale_price = np.log10(np.array(dataframe['SalePrice']))\n",
    "\n",
    "(scaled_lot_area, scaled_sale_price) = reject_outliers(scaled_lot_area, scaled_sale_price, 1.5)\n",
    "my_predictions, loss_values = get_my_predictions(scaled_lot_area, scaled_sale_price, epochs, learning_rate)\n",
    "sk_predictions = get_sk_predictions(scaled_lot_area.reshape(1, -1).transpose(), scaled_sale_price.reshape(1, -1).transpose())\n",
    "\n",
    "plt.scatter(scaled_lot_area, scaled_sale_price)\n",
    "plt.plot(scaled_lot_area, my_predictions, color='red')\n",
    "plt.plot(scaled_lot_area, sk_predictions, color='orange')\n",
    "\n",
    "plot_loss(epochs, loss_values)"
   ]
  },
  {
   "cell_type": "code",
   "execution_count": null,
   "metadata": {},
   "outputs": [],
   "source": [
    "predictions_dataframe = pd.DataFrame({\n",
    "    'Lot Area': scaled_lot_area,\n",
    "    'Sale Price': scaled_sale_price,\n",
    "    'Sale Price (My)': my_predictions,\n",
    "    'Sale Price (SK)': sk_predictions\n",
    "})"
   ]
  }
 ],
 "metadata": {
  "kernelspec": {
   "display_name": "Python 3",
   "language": "python",
   "name": "python3"
  },
  "language_info": {
   "codemirror_mode": {
    "name": "ipython",
    "version": 3
   },
   "file_extension": ".py",
   "mimetype": "text/x-python",
   "name": "python",
   "nbconvert_exporter": "python",
   "pygments_lexer": "ipython3",
   "version": "3.11.5"
  },
  "orig_nbformat": 4
 },
 "nbformat": 4,
 "nbformat_minor": 2
}
