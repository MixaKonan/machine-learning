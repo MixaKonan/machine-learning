{
 "cells": [
  {
   "cell_type": "code",
   "execution_count": null,
   "metadata": {},
   "outputs": [],
   "source": [
    "import matplotlib.pyplot as plt\n",
    "import pandas as pd\n",
    "import numpy as np\n",
    "\n",
    "from sklearn.linear_model import LinearRegression"
   ]
  },
  {
   "cell_type": "code",
   "execution_count": null,
   "metadata": {},
   "outputs": [],
   "source": [
    "dataframe = pd.read_csv(\"./Data/train.csv\")\n",
    "dataframe = dataframe[['LotFrontage','LotArea', 'SalePrice']]\n",
    "dataframe"
   ]
  },
  {
   "cell_type": "code",
   "execution_count": null,
   "metadata": {},
   "outputs": [],
   "source": [
    "def loss_function(y, x, m, b):\n",
    "    return (y - (m * x + b)) ** 2"
   ]
  },
  {
   "cell_type": "code",
   "execution_count": null,
   "metadata": {},
   "outputs": [],
   "source": [
    "def reject_outliers(lot_area, sale_price,  outlierConstant):\n",
    "    upper_quartile = np.percentile(lot_area, 65)\n",
    "    lower_quartile = np.percentile(lot_area, 35)\n",
    "    IQR = (upper_quartile - lower_quartile) * outlierConstant\n",
    "    quartileSet = (lower_quartile - IQR, upper_quartile + IQR)\n",
    "\n",
    "    indices_to_delete = []\n",
    "    for index, value in enumerate(lot_area):\n",
    "        if not (value >= quartileSet[0] and value <= quartileSet[1]):\n",
    "            indices_to_delete.append(index)\n",
    "            \n",
    "    return np.delete(lot_area, indices_to_delete), np.delete(sale_price, indices_to_delete)"
   ]
  },
  {
   "cell_type": "code",
   "execution_count": null,
   "metadata": {},
   "outputs": [],
   "source": [
    "def gradient_descent(m_now, b_now, lotAreaPoints, salePricePoints,  learningRate):\n",
    "    m_gradient = 0\n",
    "    b_gradient = 0\n",
    "    n = len(lotAreaPoints)\n",
    "\n",
    "    for i in range(n):\n",
    "        x = lotAreaPoints[i]\n",
    "        y = salePricePoints[i]\n",
    "\n",
    "        m_gradient += -(2/n) * (x * (y - (m_now * x + b_now)))\n",
    "        b_gradient += -(2/n) * (y - (m_now * x + b_now))\n",
    "\n",
    "    m = m_now - m_gradient * learningRate\n",
    "    b = b_now - b_gradient * learningRate\n",
    "    loss_value = loss_function(salePricePoints[i], lotAreaPoints[i], m, b)\n",
    "\n",
    "    return m, b, loss_value"
   ]
  },
  {
   "cell_type": "code",
   "execution_count": null,
   "metadata": {},
   "outputs": [],
   "source": [
    "def get_values(lot_areas: np.ndarray, sale_prices: np.ndarray, epochs: int, learningRate: float):\n",
    "    m = 0\n",
    "    b = 0\n",
    "\n",
    "    loss_values = []\n",
    "    for _ in range(epochs):\n",
    "        m, b, loss_value = gradient_descent(m, b, lot_areas, sale_prices, learningRate)\n",
    "        loss_values.append(loss_value)\n",
    "\n",
    "    return m, b, loss_values"
   ]
  },
  {
   "cell_type": "code",
   "execution_count": null,
   "metadata": {},
   "outputs": [],
   "source": [
    "def plot_loss(epochs: int, loss_values: np.ndarray):\n",
    "    figure, loss = plt.subplots()\n",
    "    figure.set_label(\"Loss\")\n",
    "    epoch_values = [x for x in range(epochs)]\n",
    "    loss.plot(epoch_values, loss_values)"
   ]
  },
  {
   "cell_type": "code",
   "execution_count": null,
   "metadata": {},
   "outputs": [],
   "source": [
    "def plot_ideal(lot_areas: np.ndarray, sale_prices: np.ndarray, regression: plt.Axes):\n",
    "    lr = linear.LinearRegression()\n",
    "    lr.fit(lot_areas.reshape(-1, 1), sale_prices.reshape(-1, 1))\n",
    "    \n",
    "    m = lr.coef_[0][0]\n",
    "    b = lr.intercept_[0]\n",
    "\n",
    "    x_values = list(np.arange(np.min(lot_areas), np.max(lot_areas), 0.01))\n",
    "    y_values = [m * x + b for x in np.arange(np.min(lot_areas), np.max(lot_areas), 0.01)]\n",
    "\n",
    "    regression.plot(x_values, y_values, color=\"orange\")\n"
   ]
  },
  {
   "cell_type": "code",
   "execution_count": null,
   "metadata": {},
   "outputs": [],
   "source": [
    "def plot_mine(m, b, lot_areas: np.ndarray, sale_prices: np.ndarray, regression: plt.Axes):\n",
    "    x_values = list(np.arange(np.min(lot_areas), np.max(lot_areas), 0.01))\n",
    "    y_values = [m * x + b for x in np.arange(np.min(lot_areas), np.max(lot_areas), 0.01)]\n",
    "\n",
    "    regression.scatter(lot_areas, sale_prices)\n",
    "    regression.plot(x_values, y_values, color=\"red\")"
   ]
  },
  {
   "cell_type": "code",
   "execution_count": 13,
   "metadata": {},
   "outputs": [
    {
     "data": {
      "text/plain": [
       "<matplotlib.collections.PathCollection at 0x1403cfa3e10>"
      ]
     },
     "execution_count": 13,
     "metadata": {},
     "output_type": "execute_result"
    },
    {
     "data": {
      "image/png": "[encoded data removed]",
      "text/plain": [
       "<Figure size 640x480 with 1 Axes>"
      ]
     },
     "metadata": {},
     "output_type": "display_data"
    }
   ],
   "source": [
    "# learningRate = 0.0001\n",
    "# epochs = 150\n",
    "\n",
    "scaled_lot_area = np.log2(np.array(dataframe['LotArea']))\n",
    "scaled_sale_price = np.log10(np.array(dataframe['SalePrice']))\n",
    "\n",
    "# (lot_areas, sale_prices) = reject_outliers(scaled_lot_area, scaled_sale_price, 1.5)\n",
    "# (m, b, loss_values) = get_values(lot_areas, sale_prices, epochs, learningRate)\n",
    "\n",
    "# plot_loss(epochs, np.array(loss_values))\n",
    "\n",
    "# figure, regression = plt.subplots()\n",
    "\n",
    "# plot_ideal(lot_areas, sale_prices, regression)\n",
    "# plot_mine(m, b, lot_areas, sale_prices, regression)\n",
    "\n",
    "\n",
    "plt.scatter(scaled_lot_area, scaled_sale_price)\n",
    "\n",
    "ideal_model = linear_model.LinearRegression().fit(scaled_lot_area.reshape(1, -1), scaled_sale_price.reshape(1, -1))\n",
    "idealy_predicted_values = ideal_model.predict()\n"
   ]
  },
  {
   "cell_type": "code",
   "execution_count": null,
   "metadata": {},
   "outputs": [],
   "source": [
    "predictions_dataframe = pd.DataFrame({\n",
    "    'Lot Area': dataframe['LotArea'],\n",
    "    'Sale Price': dataframe['SalePrice'],\n",
    "    \n",
    "})"
   ]
  }
 ],
 "metadata": {
  "kernelspec": {
   "display_name": "Python 3",
   "language": "python",
   "name": "python3"
  },
  "language_info": {
   "codemirror_mode": {
    "name": "ipython",
    "version": 3
   },
   "file_extension": ".py",
   "mimetype": "text/x-python",
   "name": "python",
   "nbconvert_exporter": "python",
   "pygments_lexer": "ipython3",
   "version": "3.11.5"
  },
  "orig_nbformat": 4
 },
 "nbformat": 4,
 "nbformat_minor": 2
}
